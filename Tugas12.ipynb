{
  "nbformat": 4,
  "nbformat_minor": 0,
  "metadata": {
    "colab": {
      "name": "Tugas12.ipynb",
      "provenance": [],
      "authorship_tag": "ABX9TyNPA4oFnUnXXRiw/EYLGSiE",
      "include_colab_link": true
    },
    "kernelspec": {
      "name": "python3",
      "display_name": "Python 3"
    }
  },
  "cells": [
    {
      "cell_type": "markdown",
      "metadata": {
        "id": "view-in-github",
        "colab_type": "text"
      },
      "source": [
        "<a href=\"https://colab.research.google.com/github/ainunharr/pythontask/blob/main/Tugas12.ipynb\" target=\"_parent\"><img src=\"https://colab.research.google.com/assets/colab-badge.svg\" alt=\"Open In Colab\"/></a>"
      ]
    },
    {
      "cell_type": "code",
      "metadata": {
        "colab": {
          "base_uri": "https://localhost:8080/",
          "height": 330
        },
        "id": "IjTYHLVsIZEE",
        "outputId": "2a37ffa5-1815-4318-a15f-f27e2538a207"
      },
      "source": [
        "import math\r\n",
        "import matplotlib\r\n",
        "import matplotlib.pyplot as plt\r\n",
        "import numpy as np\r\n",
        "%matplotlib inline\r\n",
        "\r\n",
        "#Variable declaration\r\n",
        "d=np.array([1, 2, 3, 4, 5]);  #in km\r\n",
        "hb=30; #Height of BS antenna in metres\r\n",
        "hm=2;# height of mobile antenna in matres\r\n",
        "fc=900;#carrier frequency in MHz\r\n",
        "W=15;  #street width(m)\r\n",
        "b=30;  # distance between building along radio path (m) \r\n",
        "phi=90; # incident angle relative to the street\r\n",
        "hr=30; #in m\r\n",
        "\r\n",
        "#Calculations\r\n",
        "dellhm=hr-hm;\r\n",
        "#L50=Lf+Lrts+Lms\r\n",
        "\r\n",
        "# By COST 231 model\r\n",
        "Lf=32.4+20*np.log10(d)+20*np.log10(fc);\r\n",
        "L0=4-0.114*(phi-55);\r\n",
        "Lrts=-16.9-10*math.log10(W)+10*math.log10(fc)+20*math.log10(dellhm)+L0;\r\n",
        "Lbsh=-18*math.log10(11);\r\n",
        "ka=54-0.8*hb;\r\n",
        "dellhb=hb-hr;\r\n",
        "kd=18-15*dellhb/dellhm;\r\n",
        "kf=4+0.7*(fc/925-1);\r\n",
        "Lms=Lbsh+ka+kd*np.log10(d)+kf*np.log10(fc)-9*np.log10(b);\r\n",
        "L50=np.array([0, 0, 0, 0, 0])\r\n",
        "L50=Lf+Lrts+Lms;\r\n",
        "\r\n",
        "\r\n",
        "#Results\r\n",
        "fig,ax1 = plt.subplots()\r\n",
        "ax1.plot(d,L_50,'b-')\r\n",
        "ax1.set_xlabel('Distance from transmitter(in km)')\r\n",
        "ax1.set_ylabel('Path loss (in dB)')\r\n",
        "ax2 = ax1.twinx()\r\n",
        "ax2.plot(d,L50,'r')\r\n",
        "ax1.legend(['COST 231 model'],loc=0)\r\n",
        "ax1.grid()\r\n",
        "plt.show()\r\n",
        "print (\"L50 values by Cost 231 model\")\r\n",
        "print ('%.2f  %.2f  %.2f  %.2f  %.2f \\n '%(L50[0],L50[1],L50[2],L50[3],L50[4]));\r\n",
        "\r\n"
      ],
      "execution_count": 15,
      "outputs": [
        {
          "output_type": "display_data",
          "data": {
            "image/png": "[encoded data removed]",
            "text/plain": [
              "<Figure size 432x288 with 2 Axes>"
            ]
          },
          "metadata": {
            "tags": [],
            "needs_background": "light"
          }
        },
        {
          "output_type": "stream",
          "text": [
            "L50 values by Cost 231 model\n",
            "131.04  142.48  149.17  153.92  157.60 \n",
            " \n"
          ],
          "name": "stdout"
        }
      ]
    },
    {
      "cell_type": "code",
      "metadata": {
        "colab": {
          "base_uri": "https://localhost:8080/"
        },
        "id": "QtdA70jdJk31",
        "outputId": "0ff2a880-a61c-460a-c45f-75b18bca8c6d"
      },
      "source": [
        "import math\r\n",
        "\r\n",
        "#Variable declaration\r\n",
        "SNRmin=12;#in dB\r\n",
        "n=3; #No of floors\r\n",
        "Backgroundnoise=-115; #dBm\r\n",
        "pt=100  #in dBm\r\n",
        "\r\n",
        "#Calculations\r\n",
        "pt_db=10*math.log10(pt);\r\n",
        "Sr=Backgroundnoise+SNRmin; #receiver sensitivity\r\n",
        "Lpmax=pt_db-Sr;\r\n",
        "#Refering table 3.4\r\n",
        "Lp_d0=38;  #ref path loss at the first meter(dB)\r\n",
        "Lf=15+4*(n-1); #signal attenuation through n floors\r\n",
        "y=3; #path loss exponent\r\n",
        "X=10; #Shadowing effect(dB)\r\n",
        "d=10**((Lpmax-Lp_d0-Lf-X)/30); #max allowable path loss\r\n",
        "\r\n",
        "#Result\r\n",
        "print ('Coverage radius of an access point = %d m \\n'%(round(d)))"
      ],
      "execution_count": 24,
      "outputs": [
        {
          "output_type": "stream",
          "text": [
            "Coverage radius of an access point = 54 m \n",
            "\n"
          ],
          "name": "stdout"
        }
      ]
    },
    {
      "cell_type": "code",
      "metadata": {
        "colab": {
          "base_uri": "https://localhost:8080/"
        },
        "id": "xiA8-XciKaO5",
        "outputId": "a4c725e3-cfda-4114-d002-d5c87bd81fff"
      },
      "source": [
        "import math\r\n",
        "\r\n",
        "#Variable declaration\r\n",
        "SSmean=-100; #signal strength(dBm)\r\n",
        "Sr=-110; #receiver sensitivity(dBm)\r\n",
        "sd=10;  #standard deviation(dB)\r\n",
        "\r\n",
        "#Calculations\r\n",
        "P_Smin=(0.5-0.5*math.erf((Sr-SSmean)/(math.sqrt(2)*sd)));\r\n",
        "\r\n",
        "#Result\r\n",
        "print ('probability of exceeding signal beyond the receiver sensitivity is %.2f \\n'%(P_Smin))"
      ],
      "execution_count": 26,
      "outputs": [
        {
          "output_type": "stream",
          "text": [
            "probability of exceeding signal beyond the receiver sensitivity is 0.84 \n",
            "\n"
          ],
          "name": "stdout"
        }
      ]
    },
    {
      "cell_type": "code",
      "metadata": {
        "colab": {
          "base_uri": "https://localhost:8080/"
        },
        "id": "q3etoIaaKlAJ",
        "outputId": "6ee82919-5094-4431-e9f9-1a6f93b6830a"
      },
      "source": [
        "import math\r\n",
        "\r\n",
        "#Variable declaration\r\n",
        "Lp=140; # path losses in dB \r\n",
        "k=1.38*10**-23; # Boltzmann’s constant (W/Kelvin-Hz)\r\n",
        "k_db=10*math.log10(k);\r\n",
        "f=900;#in MHz\r\n",
        "Gt=8; #transmitting antenna gain(dB)\r\n",
        "Gr=0; #receiver antenna gain(dB)\r\n",
        "Ag=24;#gain of receiver ampliﬁer in dB \r\n",
        "Fmargin=8;#Fade margin(dB)\r\n",
        "Nf=6;#Noise figure(dB)\r\n",
        "L0=20; #\u0002 other losses in dB\r\n",
        "Lf=12; # antenna feed line loss in dB \r\n",
        "T=24.6;#Temperature expressed in dB\r\n",
        "R=39.8; #\u0002 data rate in dB \r\n",
        "M=8;  #overall link margin(dB)\r\n",
        "Eb_No=10;#dB\r\n",
        "\r\n",
        "#Calculations\r\n",
        "#From equation  (3.54)\r\n",
        "pt_db=M-Gt-Gr-Ag+ Nf + T+ k_db+ Lp+ Lf+ L0 + Fmargin+ R+ Eb_No;\r\n",
        "\r\n",
        "#Result\r\n",
        "print ('Total transmitted power is %d dB \\n'%pt_db)"
      ],
      "execution_count": 31,
      "outputs": [
        {
          "output_type": "stream",
          "text": [
            "Total transmitted power is 7 dB \n",
            "\n"
          ],
          "name": "stdout"
        }
      ]
    }
  ]
}